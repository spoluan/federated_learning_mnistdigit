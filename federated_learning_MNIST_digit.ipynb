{
 "cells": [
  {
   "cell_type": "markdown",
   "id": "678f928c",
   "metadata": {},
   "source": [
    "# Author: Sevendi Eldrige Rifki Poluan"
   ]
  },
  {
   "cell_type": "code",
   "execution_count": 1,
   "id": "6ed74eb7",
   "metadata": {},
   "outputs": [
    {
     "name": "stdout",
     "output_type": "stream",
     "text": [
      "Tue May 16 14:37:12 2023       \r\n",
      "+---------------------------------------------------------------------------------------+\r\n",
      "| NVIDIA-SMI 530.30.02              Driver Version: 530.30.02    CUDA Version: 12.1     |\r\n",
      "|-----------------------------------------+----------------------+----------------------+\r\n",
      "| GPU  Name                  Persistence-M| Bus-Id        Disp.A | Volatile Uncorr. ECC |\r\n",
      "| Fan  Temp  Perf            Pwr:Usage/Cap|         Memory-Usage | GPU-Util  Compute M. |\r\n",
      "|                                         |                      |               MIG M. |\r\n",
      "|=========================================+======================+======================|\r\n",
      "|   0  NVIDIA GeForce RTX 3090         Off| 00000000:65:00.0 Off |                  N/A |\r\n",
      "|  0%   46C    P8               47W / 390W|    247MiB / 24576MiB |      0%      Default |\r\n",
      "|                                         |                      |                  N/A |\r\n",
      "+-----------------------------------------+----------------------+----------------------+\r\n",
      "                                                                                         \r\n",
      "+---------------------------------------------------------------------------------------+\r\n",
      "| Processes:                                                                            |\r\n",
      "|  GPU   GI   CI        PID   Type   Process name                            GPU Memory |\r\n",
      "|        ID   ID                                                             Usage      |\r\n",
      "|=======================================================================================|\r\n",
      "+---------------------------------------------------------------------------------------+\r\n"
     ]
    }
   ],
   "source": [
    "# working environment\n",
    "!nvidia-smi"
   ]
  },
  {
   "cell_type": "code",
   "execution_count": 6,
   "id": "9bc85896",
   "metadata": {},
   "outputs": [
    {
     "name": "stdout",
     "output_type": "stream",
     "text": [
      "Python 3.8.10\r\n"
     ]
    }
   ],
   "source": [
    "!python --version"
   ]
  },
  {
   "cell_type": "code",
   "execution_count": null,
   "id": "7788cb60",
   "metadata": {},
   "outputs": [],
   "source": [
    "!pip install tensorflow-federated"
   ]
  },
  {
   "cell_type": "code",
   "execution_count": 10,
   "id": "5aaebd34",
   "metadata": {},
   "outputs": [
    {
     "name": "stdout",
     "output_type": "stream",
     "text": [
      "Requirement already satisfied: tensorflow-federated in /usr/local/lib/python3.8/dist-packages (0.33.0)\n",
      "Requirement already satisfied: absl-py~=1.0.0 in /usr/local/lib/python3.8/dist-packages (from tensorflow-federated) (1.0.0)\n",
      "Requirement already satisfied: attrs~=21.4.0 in /usr/local/lib/python3.8/dist-packages (from tensorflow-federated) (21.4.0)\n",
      "Requirement already satisfied: cachetools~=3.1.1 in /usr/local/lib/python3.8/dist-packages (from tensorflow-federated) (3.1.1)\n",
      "Requirement already satisfied: dm-tree~=0.1.7 in /usr/local/lib/python3.8/dist-packages (from tensorflow-federated) (0.1.8)\n",
      "Requirement already satisfied: farmhashpy~=0.4.0 in /usr/local/lib/python3.8/dist-packages (from tensorflow-federated) (0.4.0)\n",
      "Requirement already satisfied: grpcio~=1.46.3 in /usr/local/lib/python3.8/dist-packages (from tensorflow-federated) (1.46.5)\n",
      "Requirement already satisfied: jaxlib~=0.3.10 in /usr/local/lib/python3.8/dist-packages (from tensorflow-federated) (0.3.25)\n",
      "Requirement already satisfied: jax~=0.3.13 in /usr/local/lib/python3.8/dist-packages (from tensorflow-federated) (0.3.25)\n",
      "Requirement already satisfied: numpy~=1.21.4 in /usr/local/lib/python3.8/dist-packages (from tensorflow-federated) (1.21.6)\n",
      "Requirement already satisfied: portpicker~=1.5.2 in /usr/local/lib/python3.8/dist-packages (from tensorflow-federated) (1.5.2)\n",
      "Requirement already satisfied: semantic-version~=2.6.0 in /usr/local/lib/python3.8/dist-packages (from tensorflow-federated) (2.6.0)\n",
      "Requirement already satisfied: tensorflow-model-optimization~=0.7.2 in /usr/local/lib/python3.8/dist-packages (from tensorflow-federated) (0.7.3)\n",
      "Requirement already satisfied: tensorflow-privacy~=0.8.1 in /usr/local/lib/python3.8/dist-packages (from tensorflow-federated) (0.8.9)\n",
      "Requirement already satisfied: tensorflow~=2.9.1 in /usr/local/lib/python3.8/dist-packages (from tensorflow-federated) (2.9.3)\n",
      "Requirement already satisfied: tqdm~=4.64.0 in /usr/local/lib/python3.8/dist-packages (from tensorflow-federated) (4.64.1)\n",
      "Requirement already satisfied: six in /usr/lib/python3/dist-packages (from absl-py~=1.0.0->tensorflow-federated) (1.14.0)\n",
      "Requirement already satisfied: opt-einsum in /usr/local/lib/python3.8/dist-packages (from jax~=0.3.13->tensorflow-federated) (3.3.0)\n",
      "Requirement already satisfied: scipy>=1.5 in /usr/local/lib/python3.8/dist-packages (from jax~=0.3.13->tensorflow-federated) (1.7.3)\n",
      "Requirement already satisfied: typing-extensions in /usr/local/lib/python3.8/dist-packages (from jax~=0.3.13->tensorflow-federated) (4.5.0)\n",
      "Requirement already satisfied: psutil in /usr/local/lib/python3.8/dist-packages (from portpicker~=1.5.2->tensorflow-federated) (5.9.4)\n",
      "Requirement already satisfied: astunparse>=1.6.0 in /usr/local/lib/python3.8/dist-packages (from tensorflow~=2.9.1->tensorflow-federated) (1.6.3)\n",
      "Requirement already satisfied: flatbuffers<2,>=1.12 in /usr/local/lib/python3.8/dist-packages (from tensorflow~=2.9.1->tensorflow-federated) (1.12)\n",
      "Requirement already satisfied: gast<=0.4.0,>=0.2.1 in /usr/local/lib/python3.8/dist-packages (from tensorflow~=2.9.1->tensorflow-federated) (0.4.0)\n",
      "Requirement already satisfied: google-pasta>=0.1.1 in /usr/local/lib/python3.8/dist-packages (from tensorflow~=2.9.1->tensorflow-federated) (0.2.0)\n",
      "Requirement already satisfied: h5py>=2.9.0 in /usr/local/lib/python3.8/dist-packages (from tensorflow~=2.9.1->tensorflow-federated) (3.8.0)\n",
      "Requirement already satisfied: keras<2.10.0,>=2.9.0rc0 in /usr/local/lib/python3.8/dist-packages (from tensorflow~=2.9.1->tensorflow-federated) (2.9.0)\n",
      "Requirement already satisfied: keras-preprocessing>=1.1.1 in /usr/local/lib/python3.8/dist-packages (from tensorflow~=2.9.1->tensorflow-federated) (1.1.2)\n",
      "Requirement already satisfied: libclang>=13.0.0 in /usr/local/lib/python3.8/dist-packages (from tensorflow~=2.9.1->tensorflow-federated) (16.0.0)\n",
      "Requirement already satisfied: packaging in /usr/local/lib/python3.8/dist-packages (from tensorflow~=2.9.1->tensorflow-federated) (22.0)\n",
      "Requirement already satisfied: protobuf<3.20,>=3.9.2 in /usr/local/lib/python3.8/dist-packages (from tensorflow~=2.9.1->tensorflow-federated) (3.19.6)\n",
      "Requirement already satisfied: setuptools in /usr/local/lib/python3.8/dist-packages (from tensorflow~=2.9.1->tensorflow-federated) (67.6.0)\n",
      "Requirement already satisfied: tensorboard<2.10,>=2.9 in /usr/local/lib/python3.8/dist-packages (from tensorflow~=2.9.1->tensorflow-federated) (2.9.1)\n",
      "Requirement already satisfied: tensorflow-io-gcs-filesystem>=0.23.1 in /usr/local/lib/python3.8/dist-packages (from tensorflow~=2.9.1->tensorflow-federated) (0.31.0)\n",
      "Requirement already satisfied: tensorflow-estimator<2.10.0,>=2.9.0rc0 in /usr/local/lib/python3.8/dist-packages (from tensorflow~=2.9.1->tensorflow-federated) (2.9.0)\n",
      "Requirement already satisfied: termcolor>=1.1.0 in /usr/local/lib/python3.8/dist-packages (from tensorflow~=2.9.1->tensorflow-federated) (2.2.0)\n",
      "Requirement already satisfied: wrapt>=1.11.0 in /usr/local/lib/python3.8/dist-packages (from tensorflow~=2.9.1->tensorflow-federated) (1.14.1)\n",
      "Requirement already satisfied: dp-accounting==0.4.1 in /usr/local/lib/python3.8/dist-packages (from tensorflow-privacy~=0.8.1->tensorflow-federated) (0.4.1)\n",
      "Requirement already satisfied: immutabledict~=2.2 in /usr/local/lib/python3.8/dist-packages (from tensorflow-privacy~=0.8.1->tensorflow-federated) (2.2.4)\n",
      "Requirement already satisfied: matplotlib~=3.3 in /usr/local/lib/python3.8/dist-packages (from tensorflow-privacy~=0.8.1->tensorflow-federated) (3.7.1)\n",
      "Requirement already satisfied: pandas~=1.4 in /usr/local/lib/python3.8/dist-packages (from tensorflow-privacy~=0.8.1->tensorflow-federated) (1.5.3)\n",
      "Requirement already satisfied: parameterized~=0.8 in /usr/local/lib/python3.8/dist-packages (from tensorflow-privacy~=0.8.1->tensorflow-federated) (0.9.0)\n",
      "Requirement already satisfied: scikit-learn==1.*,>=1.0 in /usr/local/lib/python3.8/dist-packages (from tensorflow-privacy~=0.8.1->tensorflow-federated) (1.2.2)\n",
      "Requirement already satisfied: statsmodels~=0.13 in /usr/local/lib/python3.8/dist-packages (from tensorflow-privacy~=0.8.1->tensorflow-federated) (0.13.5)\n",
      "Requirement already satisfied: tensorflow-datasets~=4.5 in /usr/local/lib/python3.8/dist-packages (from tensorflow-privacy~=0.8.1->tensorflow-federated) (4.9.0)\n",
      "Requirement already satisfied: tensorflow-probability==0.15.0 in /usr/local/lib/python3.8/dist-packages (from tensorflow-privacy~=0.8.1->tensorflow-federated) (0.15.0)\n",
      "Requirement already satisfied: mpmath~=1.2.1 in /usr/local/lib/python3.8/dist-packages (from dp-accounting==0.4.1->tensorflow-privacy~=0.8.1->tensorflow-federated) (1.2.1)\n",
      "Requirement already satisfied: joblib>=1.1.1 in /usr/local/lib/python3.8/dist-packages (from scikit-learn==1.*,>=1.0->tensorflow-privacy~=0.8.1->tensorflow-federated) (1.2.0)\n",
      "Requirement already satisfied: threadpoolctl>=2.0.0 in /usr/local/lib/python3.8/dist-packages (from scikit-learn==1.*,>=1.0->tensorflow-privacy~=0.8.1->tensorflow-federated) (3.1.0)\n",
      "Requirement already satisfied: decorator in /usr/local/lib/python3.8/dist-packages (from tensorflow-probability==0.15.0->tensorflow-privacy~=0.8.1->tensorflow-federated) (4.4.2)\n",
      "Requirement already satisfied: cloudpickle>=1.3 in /usr/local/lib/python3.8/dist-packages (from tensorflow-probability==0.15.0->tensorflow-privacy~=0.8.1->tensorflow-federated) (2.2.1)\n",
      "Requirement already satisfied: wheel<1.0,>=0.23.0 in /usr/local/lib/python3.8/dist-packages (from astunparse>=1.6.0->tensorflow~=2.9.1->tensorflow-federated) (0.40.0)\n",
      "Requirement already satisfied: contourpy>=1.0.1 in /usr/local/lib/python3.8/dist-packages (from matplotlib~=3.3->tensorflow-privacy~=0.8.1->tensorflow-federated) (1.0.7)\n",
      "Requirement already satisfied: cycler>=0.10 in /usr/local/lib/python3.8/dist-packages (from matplotlib~=3.3->tensorflow-privacy~=0.8.1->tensorflow-federated) (0.11.0)\n",
      "Requirement already satisfied: fonttools>=4.22.0 in /usr/local/lib/python3.8/dist-packages (from matplotlib~=3.3->tensorflow-privacy~=0.8.1->tensorflow-federated) (4.39.2)\n",
      "Requirement already satisfied: kiwisolver>=1.0.1 in /usr/local/lib/python3.8/dist-packages (from matplotlib~=3.3->tensorflow-privacy~=0.8.1->tensorflow-federated) (1.4.4)\n",
      "Requirement already satisfied: pillow>=6.2.0 in /usr/local/lib/python3.8/dist-packages (from matplotlib~=3.3->tensorflow-privacy~=0.8.1->tensorflow-federated) (9.4.0)\n",
      "Requirement already satisfied: pyparsing>=2.3.1 in /usr/local/lib/python3.8/dist-packages (from matplotlib~=3.3->tensorflow-privacy~=0.8.1->tensorflow-federated) (3.0.9)\n",
      "Requirement already satisfied: python-dateutil>=2.7 in /usr/local/lib/python3.8/dist-packages (from matplotlib~=3.3->tensorflow-privacy~=0.8.1->tensorflow-federated) (2.8.2)\n",
      "Requirement already satisfied: importlib-resources>=3.2.0 in /usr/local/lib/python3.8/dist-packages (from matplotlib~=3.3->tensorflow-privacy~=0.8.1->tensorflow-federated) (5.12.0)\n",
      "Requirement already satisfied: pytz>=2020.1 in /usr/local/lib/python3.8/dist-packages (from pandas~=1.4->tensorflow-privacy~=0.8.1->tensorflow-federated) (2023.3)\n"
     ]
    },
    {
     "name": "stdout",
     "output_type": "stream",
     "text": [
      "Requirement already satisfied: patsy>=0.5.2 in /usr/local/lib/python3.8/dist-packages (from statsmodels~=0.13->tensorflow-privacy~=0.8.1->tensorflow-federated) (0.5.3)\n",
      "Requirement already satisfied: google-auth<3,>=1.6.3 in /usr/local/lib/python3.8/dist-packages (from tensorboard<2.10,>=2.9->tensorflow~=2.9.1->tensorflow-federated) (2.16.2)\n",
      "Requirement already satisfied: google-auth-oauthlib<0.5,>=0.4.1 in /usr/local/lib/python3.8/dist-packages (from tensorboard<2.10,>=2.9->tensorflow~=2.9.1->tensorflow-federated) (0.4.6)\n",
      "Requirement already satisfied: markdown>=2.6.8 in /usr/local/lib/python3.8/dist-packages (from tensorboard<2.10,>=2.9->tensorflow~=2.9.1->tensorflow-federated) (3.4.3)\n",
      "Requirement already satisfied: requests<3,>=2.21.0 in /usr/lib/python3/dist-packages (from tensorboard<2.10,>=2.9->tensorflow~=2.9.1->tensorflow-federated) (2.22.0)\n",
      "Requirement already satisfied: tensorboard-data-server<0.7.0,>=0.6.0 in /usr/local/lib/python3.8/dist-packages (from tensorboard<2.10,>=2.9->tensorflow~=2.9.1->tensorflow-federated) (0.6.1)\n",
      "Requirement already satisfied: tensorboard-plugin-wit>=1.6.0 in /usr/local/lib/python3.8/dist-packages (from tensorboard<2.10,>=2.9->tensorflow~=2.9.1->tensorflow-federated) (1.8.1)\n",
      "Requirement already satisfied: werkzeug>=1.0.1 in /usr/local/lib/python3.8/dist-packages (from tensorboard<2.10,>=2.9->tensorflow~=2.9.1->tensorflow-federated) (2.2.3)\n",
      "Requirement already satisfied: array-record in /usr/local/lib/python3.8/dist-packages (from tensorflow-datasets~=4.5->tensorflow-privacy~=0.8.1->tensorflow-federated) (0.2.0)\n",
      "Requirement already satisfied: click in /usr/local/lib/python3.8/dist-packages (from tensorflow-datasets~=4.5->tensorflow-privacy~=0.8.1->tensorflow-federated) (8.1.3)\n",
      "Requirement already satisfied: etils[enp,epath]>=0.9.0 in /usr/local/lib/python3.8/dist-packages (from tensorflow-datasets~=4.5->tensorflow-privacy~=0.8.1->tensorflow-federated) (1.2.0)\n",
      "Requirement already satisfied: promise in /usr/local/lib/python3.8/dist-packages (from tensorflow-datasets~=4.5->tensorflow-privacy~=0.8.1->tensorflow-federated) (2.3)\n",
      "Requirement already satisfied: tensorflow-metadata in /usr/local/lib/python3.8/dist-packages (from tensorflow-datasets~=4.5->tensorflow-privacy~=0.8.1->tensorflow-federated) (1.13.0)\n",
      "Requirement already satisfied: toml in /usr/local/lib/python3.8/dist-packages (from tensorflow-datasets~=4.5->tensorflow-privacy~=0.8.1->tensorflow-federated) (0.10.2)\n",
      "Requirement already satisfied: zipp in /usr/local/lib/python3.8/dist-packages (from etils[enp,epath]>=0.9.0->tensorflow-datasets~=4.5->tensorflow-privacy~=0.8.1->tensorflow-federated) (3.15.0)\n",
      "Requirement already satisfied: pyasn1-modules>=0.2.1 in /usr/local/lib/python3.8/dist-packages (from google-auth<3,>=1.6.3->tensorboard<2.10,>=2.9->tensorflow~=2.9.1->tensorflow-federated) (0.2.8)\n",
      "Requirement already satisfied: rsa<5,>=3.1.4 in /usr/local/lib/python3.8/dist-packages (from google-auth<3,>=1.6.3->tensorboard<2.10,>=2.9->tensorflow~=2.9.1->tensorflow-federated) (4.9)\n",
      "Requirement already satisfied: requests-oauthlib>=0.7.0 in /usr/local/lib/python3.8/dist-packages (from google-auth-oauthlib<0.5,>=0.4.1->tensorboard<2.10,>=2.9->tensorflow~=2.9.1->tensorflow-federated) (1.3.1)\n",
      "Requirement already satisfied: importlib-metadata>=4.4 in /usr/local/lib/python3.8/dist-packages (from markdown>=2.6.8->tensorboard<2.10,>=2.9->tensorflow~=2.9.1->tensorflow-federated) (6.1.0)\n",
      "Requirement already satisfied: MarkupSafe>=2.1.1 in /usr/local/lib/python3.8/dist-packages (from werkzeug>=1.0.1->tensorboard<2.10,>=2.9->tensorflow~=2.9.1->tensorflow-federated) (2.1.2)\n",
      "Requirement already satisfied: googleapis-common-protos<2,>=1.52.0 in /usr/local/lib/python3.8/dist-packages (from tensorflow-metadata->tensorflow-datasets~=4.5->tensorflow-privacy~=0.8.1->tensorflow-federated) (1.59.0)\n",
      "Requirement already satisfied: pyasn1<0.5.0,>=0.4.6 in /usr/local/lib/python3.8/dist-packages (from pyasn1-modules>=0.2.1->google-auth<3,>=1.6.3->tensorboard<2.10,>=2.9->tensorflow~=2.9.1->tensorflow-federated) (0.4.8)\n",
      "Requirement already satisfied: oauthlib>=3.0.0 in /usr/local/lib/python3.8/dist-packages (from requests-oauthlib>=0.7.0->google-auth-oauthlib<0.5,>=0.4.1->tensorboard<2.10,>=2.9->tensorflow~=2.9.1->tensorflow-federated) (3.2.2)\n",
      "\u001b[33mWARNING: Running pip as the 'root' user can result in broken permissions and conflicting behaviour with the system package manager. It is recommended to use a virtual environment instead: https://pip.pypa.io/warnings/venv\u001b[0m\u001b[33m\n",
      "\u001b[0m"
     ]
    }
   ],
   "source": [
    "!pip install --upgrade tensorflow-federated"
   ]
  },
  {
   "cell_type": "markdown",
   "id": "9d38c068",
   "metadata": {},
   "source": [
    "# Import the necessary libraries"
   ]
  },
  {
   "cell_type": "code",
   "execution_count": 11,
   "id": "06d5ed2f",
   "metadata": {},
   "outputs": [
    {
     "ename": "TypeError",
     "evalue": "'type' object is not subscriptable",
     "output_type": "error",
     "traceback": [
      "\u001b[0;31m---------------------------------------------------------------------------\u001b[0m",
      "\u001b[0;31mTypeError\u001b[0m                                 Traceback (most recent call last)",
      "Cell \u001b[0;32mIn[11], line 7\u001b[0m\n\u001b[1;32m      5\u001b[0m \u001b[38;5;28;01mfrom\u001b[39;00m \u001b[38;5;21;01msklearn\u001b[39;00m\u001b[38;5;21;01m.\u001b[39;00m\u001b[38;5;21;01mmetrics\u001b[39;00m \u001b[38;5;28;01mimport\u001b[39;00m confusion_matrix\n\u001b[1;32m      6\u001b[0m \u001b[38;5;28;01mimport\u001b[39;00m \u001b[38;5;21;01mitertools\u001b[39;00m\n\u001b[0;32m----> 7\u001b[0m \u001b[38;5;28;01mimport\u001b[39;00m \u001b[38;5;21;01mtensorflow_federated\u001b[39;00m \u001b[38;5;28;01mas\u001b[39;00m \u001b[38;5;21;01mtff\u001b[39;00m\n",
      "File \u001b[0;32m/usr/local/lib/python3.8/dist-packages/tensorflow_federated/__init__.py:20\u001b[0m\n\u001b[1;32m     16\u001b[0m \u001b[38;5;28;01mimport\u001b[39;00m \u001b[38;5;21;01msys\u001b[39;00m\n\u001b[1;32m     18\u001b[0m \u001b[38;5;28;01mfrom\u001b[39;00m \u001b[38;5;21;01mtensorflow_federated\u001b[39;00m\u001b[38;5;21;01m.\u001b[39;00m\u001b[38;5;21;01mversion\u001b[39;00m \u001b[38;5;28;01mimport\u001b[39;00m __version__  \u001b[38;5;66;03m# pylint: disable=g-bad-import-order\u001b[39;00m\n\u001b[0;32m---> 20\u001b[0m \u001b[38;5;28;01mfrom\u001b[39;00m \u001b[38;5;21;01mtensorflow_federated\u001b[39;00m\u001b[38;5;21;01m.\u001b[39;00m\u001b[38;5;21;01mpython\u001b[39;00m \u001b[38;5;28;01mimport\u001b[39;00m aggregators\n\u001b[1;32m     21\u001b[0m \u001b[38;5;28;01mfrom\u001b[39;00m \u001b[38;5;21;01mtensorflow_federated\u001b[39;00m\u001b[38;5;21;01m.\u001b[39;00m\u001b[38;5;21;01mpython\u001b[39;00m \u001b[38;5;28;01mimport\u001b[39;00m analytics\n\u001b[1;32m     22\u001b[0m \u001b[38;5;28;01mfrom\u001b[39;00m \u001b[38;5;21;01mtensorflow_federated\u001b[39;00m\u001b[38;5;21;01m.\u001b[39;00m\u001b[38;5;21;01mpython\u001b[39;00m \u001b[38;5;28;01mimport\u001b[39;00m learning\n",
      "File \u001b[0;32m/usr/local/lib/python3.8/dist-packages/tensorflow_federated/python/aggregators/__init__.py:25\u001b[0m\n\u001b[1;32m     14\u001b[0m \u001b[38;5;124;03m\"\"\"Libraries for constructing federated aggregation.\u001b[39;00m\n\u001b[1;32m     15\u001b[0m \n\u001b[1;32m     16\u001b[0m \u001b[38;5;124;03mFor example uses of the symbols in this module, see\u001b[39;00m\n\u001b[0;32m   (...)\u001b[0m\n\u001b[1;32m     21\u001b[0m \u001b[38;5;124;03mhttps://www.tensorflow.org/federated/tutorials/custom_aggregators) tutorial.\u001b[39;00m\n\u001b[1;32m     22\u001b[0m \u001b[38;5;124;03m\"\"\"\u001b[39;00m\n\u001b[1;32m     24\u001b[0m \u001b[38;5;28;01mfrom\u001b[39;00m \u001b[38;5;21;01mtensorflow_federated\u001b[39;00m\u001b[38;5;21;01m.\u001b[39;00m\u001b[38;5;21;01mpython\u001b[39;00m\u001b[38;5;21;01m.\u001b[39;00m\u001b[38;5;21;01maggregators\u001b[39;00m\u001b[38;5;21;01m.\u001b[39;00m\u001b[38;5;21;01mconcat\u001b[39;00m \u001b[38;5;28;01mimport\u001b[39;00m concat_factory\n\u001b[0;32m---> 25\u001b[0m \u001b[38;5;28;01mfrom\u001b[39;00m \u001b[38;5;21;01mtensorflow_federated\u001b[39;00m\u001b[38;5;21;01m.\u001b[39;00m\u001b[38;5;21;01mpython\u001b[39;00m\u001b[38;5;21;01m.\u001b[39;00m\u001b[38;5;21;01maggregators\u001b[39;00m\u001b[38;5;21;01m.\u001b[39;00m\u001b[38;5;21;01mdifferential_privacy\u001b[39;00m \u001b[38;5;28;01mimport\u001b[39;00m DifferentiallyPrivateFactory\n\u001b[1;32m     26\u001b[0m \u001b[38;5;28;01mfrom\u001b[39;00m \u001b[38;5;21;01mtensorflow_federated\u001b[39;00m\u001b[38;5;21;01m.\u001b[39;00m\u001b[38;5;21;01mpython\u001b[39;00m\u001b[38;5;21;01m.\u001b[39;00m\u001b[38;5;21;01maggregators\u001b[39;00m\u001b[38;5;21;01m.\u001b[39;00m\u001b[38;5;21;01mencoded\u001b[39;00m \u001b[38;5;28;01mimport\u001b[39;00m EncodedSumFactory\n\u001b[1;32m     27\u001b[0m \u001b[38;5;28;01mfrom\u001b[39;00m \u001b[38;5;21;01mtensorflow_federated\u001b[39;00m\u001b[38;5;21;01m.\u001b[39;00m\u001b[38;5;21;01mpython\u001b[39;00m\u001b[38;5;21;01m.\u001b[39;00m\u001b[38;5;21;01maggregators\u001b[39;00m\u001b[38;5;21;01m.\u001b[39;00m\u001b[38;5;21;01mfactory\u001b[39;00m \u001b[38;5;28;01mimport\u001b[39;00m AggregationFactory\n",
      "File \u001b[0;32m/usr/local/lib/python3.8/dist-packages/tensorflow_federated/python/aggregators/differential_privacy.py:27\u001b[0m\n\u001b[1;32m     24\u001b[0m \u001b[38;5;28;01mimport\u001b[39;00m \u001b[38;5;21;01mwarnings\u001b[39;00m\n\u001b[1;32m     26\u001b[0m \u001b[38;5;28;01mimport\u001b[39;00m \u001b[38;5;21;01mtensorflow\u001b[39;00m \u001b[38;5;28;01mas\u001b[39;00m \u001b[38;5;21;01mtf\u001b[39;00m\n\u001b[0;32m---> 27\u001b[0m \u001b[38;5;28;01mimport\u001b[39;00m \u001b[38;5;21;01mtensorflow_privacy\u001b[39;00m \u001b[38;5;28;01mas\u001b[39;00m \u001b[38;5;21;01mtfp\u001b[39;00m\n\u001b[1;32m     29\u001b[0m \u001b[38;5;28;01mfrom\u001b[39;00m \u001b[38;5;21;01mtensorflow_federated\u001b[39;00m\u001b[38;5;21;01m.\u001b[39;00m\u001b[38;5;21;01mpython\u001b[39;00m\u001b[38;5;21;01m.\u001b[39;00m\u001b[38;5;21;01maggregators\u001b[39;00m \u001b[38;5;28;01mimport\u001b[39;00m factory\n\u001b[1;32m     30\u001b[0m \u001b[38;5;28;01mfrom\u001b[39;00m \u001b[38;5;21;01mtensorflow_federated\u001b[39;00m\u001b[38;5;21;01m.\u001b[39;00m\u001b[38;5;21;01mpython\u001b[39;00m\u001b[38;5;21;01m.\u001b[39;00m\u001b[38;5;21;01maggregators\u001b[39;00m \u001b[38;5;28;01mimport\u001b[39;00m sum_factory\n",
      "File \u001b[0;32m/usr/local/lib/python3.8/dist-packages/tensorflow_privacy/__init__.py:26\u001b[0m\n\u001b[1;32m     23\u001b[0m   \u001b[38;5;28;01mpass\u001b[39;00m\n\u001b[1;32m     24\u001b[0m \u001b[38;5;28;01melse\u001b[39;00m:\n\u001b[1;32m     25\u001b[0m   \u001b[38;5;66;03m# TensorFlow v1 imports\u001b[39;00m\n\u001b[0;32m---> 26\u001b[0m   \u001b[38;5;28;01mfrom\u001b[39;00m \u001b[38;5;21;01mtensorflow_privacy\u001b[39;00m \u001b[38;5;28;01mimport\u001b[39;00m v1\n\u001b[1;32m     28\u001b[0m   \u001b[38;5;66;03m# Analysis\u001b[39;00m\n\u001b[1;32m     29\u001b[0m   \u001b[38;5;28;01mfrom\u001b[39;00m \u001b[38;5;21;01mtensorflow_privacy\u001b[39;00m\u001b[38;5;21;01m.\u001b[39;00m\u001b[38;5;21;01mprivacy\u001b[39;00m\u001b[38;5;21;01m.\u001b[39;00m\u001b[38;5;21;01manalysis\u001b[39;00m\u001b[38;5;21;01m.\u001b[39;00m\u001b[38;5;21;01mcompute_dp_sgd_privacy_lib\u001b[39;00m \u001b[38;5;28;01mimport\u001b[39;00m compute_dp_sgd_privacy\n",
      "File \u001b[0;32m/usr/local/lib/python3.8/dist-packages/tensorflow_privacy/v1/__init__.py:31\u001b[0m\n\u001b[1;32m     28\u001b[0m \u001b[38;5;28;01mfrom\u001b[39;00m \u001b[38;5;21;01mtensorflow_privacy\u001b[39;00m\u001b[38;5;21;01m.\u001b[39;00m\u001b[38;5;21;01mprivacy\u001b[39;00m\u001b[38;5;21;01m.\u001b[39;00m\u001b[38;5;21;01mestimators\u001b[39;00m\u001b[38;5;21;01m.\u001b[39;00m\u001b[38;5;21;01mv1\u001b[39;00m\u001b[38;5;21;01m.\u001b[39;00m\u001b[38;5;21;01mdnn\u001b[39;00m \u001b[38;5;28;01mimport\u001b[39;00m DNNClassifier \u001b[38;5;28;01mas\u001b[39;00m DNNClassifierV1\n\u001b[1;32m     30\u001b[0m \u001b[38;5;66;03m# Optimizers\u001b[39;00m\n\u001b[0;32m---> 31\u001b[0m \u001b[38;5;28;01mfrom\u001b[39;00m \u001b[38;5;21;01mtensorflow_privacy\u001b[39;00m\u001b[38;5;21;01m.\u001b[39;00m\u001b[38;5;21;01mprivacy\u001b[39;00m\u001b[38;5;21;01m.\u001b[39;00m\u001b[38;5;21;01moptimizers\u001b[39;00m\u001b[38;5;21;01m.\u001b[39;00m\u001b[38;5;21;01mdp_optimizer\u001b[39;00m \u001b[38;5;28;01mimport\u001b[39;00m DPAdagradGaussianOptimizer\n\u001b[1;32m     32\u001b[0m \u001b[38;5;28;01mfrom\u001b[39;00m \u001b[38;5;21;01mtensorflow_privacy\u001b[39;00m\u001b[38;5;21;01m.\u001b[39;00m\u001b[38;5;21;01mprivacy\u001b[39;00m\u001b[38;5;21;01m.\u001b[39;00m\u001b[38;5;21;01moptimizers\u001b[39;00m\u001b[38;5;21;01m.\u001b[39;00m\u001b[38;5;21;01mdp_optimizer\u001b[39;00m \u001b[38;5;28;01mimport\u001b[39;00m DPAdagradOptimizer\n\u001b[1;32m     33\u001b[0m \u001b[38;5;28;01mfrom\u001b[39;00m \u001b[38;5;21;01mtensorflow_privacy\u001b[39;00m\u001b[38;5;21;01m.\u001b[39;00m\u001b[38;5;21;01mprivacy\u001b[39;00m\u001b[38;5;21;01m.\u001b[39;00m\u001b[38;5;21;01moptimizers\u001b[39;00m\u001b[38;5;21;01m.\u001b[39;00m\u001b[38;5;21;01mdp_optimizer\u001b[39;00m \u001b[38;5;28;01mimport\u001b[39;00m DPAdamGaussianOptimizer\n",
      "File \u001b[0;32m/usr/local/lib/python3.8/dist-packages/tensorflow_privacy/privacy/optimizers/dp_optimizer.py:18\u001b[0m\n\u001b[1;32m     16\u001b[0m \u001b[38;5;28;01mfrom\u001b[39;00m \u001b[38;5;21;01mabsl\u001b[39;00m \u001b[38;5;28;01mimport\u001b[39;00m logging\n\u001b[1;32m     17\u001b[0m \u001b[38;5;28;01mimport\u001b[39;00m \u001b[38;5;21;01mtensorflow\u001b[39;00m \u001b[38;5;28;01mas\u001b[39;00m \u001b[38;5;21;01mtf\u001b[39;00m\n\u001b[0;32m---> 18\u001b[0m \u001b[38;5;28;01mfrom\u001b[39;00m \u001b[38;5;21;01mtensorflow_privacy\u001b[39;00m\u001b[38;5;21;01m.\u001b[39;00m\u001b[38;5;21;01mprivacy\u001b[39;00m\u001b[38;5;21;01m.\u001b[39;00m\u001b[38;5;21;01mdp_query\u001b[39;00m \u001b[38;5;28;01mimport\u001b[39;00m gaussian_query\n\u001b[1;32m     21\u001b[0m \u001b[38;5;28;01mdef\u001b[39;00m \u001b[38;5;21mmake_optimizer_class\u001b[39m(\u001b[38;5;28mcls\u001b[39m):\n\u001b[1;32m     22\u001b[0m \u001b[38;5;250m  \u001b[39m\u001b[38;5;124;03m\"\"\"Given a subclass of `tf.compat.v1.train.Optimizer`, returns a DP-SGD subclass of it.\u001b[39;00m\n\u001b[1;32m     23\u001b[0m \n\u001b[1;32m     24\u001b[0m \u001b[38;5;124;03m  Args:\u001b[39;00m\n\u001b[0;32m   (...)\u001b[0m\n\u001b[1;32m     29\u001b[0m \u001b[38;5;124;03m    A DP-SGD subclass of `cls`.\u001b[39;00m\n\u001b[1;32m     30\u001b[0m \u001b[38;5;124;03m  \"\"\"\u001b[39;00m\n",
      "File \u001b[0;32m/usr/local/lib/python3.8/dist-packages/tensorflow_privacy/privacy/dp_query/gaussian_query.py:17\u001b[0m\n\u001b[1;32m     14\u001b[0m \u001b[38;5;124;03m\"\"\"Implements DPQuery interface for Gaussian sum queries.\"\"\"\u001b[39;00m\n\u001b[1;32m     16\u001b[0m \u001b[38;5;28;01mimport\u001b[39;00m \u001b[38;5;21;01mcollections\u001b[39;00m\n\u001b[0;32m---> 17\u001b[0m \u001b[38;5;28;01mimport\u001b[39;00m \u001b[38;5;21;01mdp_accounting\u001b[39;00m\n\u001b[1;32m     18\u001b[0m \u001b[38;5;28;01mimport\u001b[39;00m \u001b[38;5;21;01mpackaging\u001b[39;00m\n\u001b[1;32m     19\u001b[0m \u001b[38;5;28;01mimport\u001b[39;00m \u001b[38;5;21;01mtensorflow\u001b[39;00m \u001b[38;5;28;01mas\u001b[39;00m \u001b[38;5;21;01mtf\u001b[39;00m\n",
      "File \u001b[0;32m/usr/local/lib/python3.8/dist-packages/dp_accounting/__init__.py:17\u001b[0m\n\u001b[1;32m      1\u001b[0m \u001b[38;5;66;03m# Copyright 2020 Google LLC.\u001b[39;00m\n\u001b[1;32m      2\u001b[0m \u001b[38;5;66;03m#\u001b[39;00m\n\u001b[1;32m      3\u001b[0m \u001b[38;5;66;03m# Licensed under the Apache License, Version 2.0 (the \"License\");\u001b[39;00m\n\u001b[0;32m   (...)\u001b[0m\n\u001b[1;32m     12\u001b[0m \u001b[38;5;66;03m# See the License for the specific language governing permissions and\u001b[39;00m\n\u001b[1;32m     13\u001b[0m \u001b[38;5;66;03m# limitations under the License.\u001b[39;00m\n\u001b[1;32m     15\u001b[0m \u001b[38;5;124;03m\"\"\"DP Accounting package.\"\"\"\u001b[39;00m\n\u001b[0;32m---> 17\u001b[0m \u001b[38;5;28;01mfrom\u001b[39;00m \u001b[38;5;21;01mdp_accounting\u001b[39;00m \u001b[38;5;28;01mimport\u001b[39;00m pld\n\u001b[1;32m     18\u001b[0m \u001b[38;5;28;01mfrom\u001b[39;00m \u001b[38;5;21;01mdp_accounting\u001b[39;00m \u001b[38;5;28;01mimport\u001b[39;00m rdp\n\u001b[1;32m     20\u001b[0m \u001b[38;5;28;01mfrom\u001b[39;00m \u001b[38;5;21;01mdp_accounting\u001b[39;00m\u001b[38;5;21;01m.\u001b[39;00m\u001b[38;5;21;01mdp_event\u001b[39;00m \u001b[38;5;28;01mimport\u001b[39;00m ComposedDpEvent\n",
      "File \u001b[0;32m/usr/local/lib/python3.8/dist-packages/dp_accounting/pld/__init__.py:17\u001b[0m\n\u001b[1;32m      1\u001b[0m \u001b[38;5;66;03m# Copyright 2022 Google LLC.\u001b[39;00m\n\u001b[1;32m      2\u001b[0m \u001b[38;5;66;03m#\u001b[39;00m\n\u001b[1;32m      3\u001b[0m \u001b[38;5;66;03m# Licensed under the Apache License, Version 2.0 (the \"License\");\u001b[39;00m\n\u001b[0;32m   (...)\u001b[0m\n\u001b[1;32m     12\u001b[0m \u001b[38;5;66;03m# See the License for the specific language governing permissions and\u001b[39;00m\n\u001b[1;32m     13\u001b[0m \u001b[38;5;66;03m# limitations under the License.\u001b[39;00m\n\u001b[1;32m     15\u001b[0m \u001b[38;5;124;03m\"\"\"PLD Accounting package.\"\"\"\u001b[39;00m\n\u001b[0;32m---> 17\u001b[0m \u001b[38;5;28;01mfrom\u001b[39;00m \u001b[38;5;21;01mdp_accounting\u001b[39;00m\u001b[38;5;21;01m.\u001b[39;00m\u001b[38;5;21;01mpld\u001b[39;00m\u001b[38;5;21;01m.\u001b[39;00m\u001b[38;5;21;01mpld_privacy_accountant\u001b[39;00m \u001b[38;5;28;01mimport\u001b[39;00m PLDAccountant\n",
      "File \u001b[0;32m/usr/local/lib/python3.8/dist-packages/dp_accounting/pld/pld_privacy_accountant.py:19\u001b[0m\n\u001b[1;32m     16\u001b[0m \u001b[38;5;28;01mimport\u001b[39;00m \u001b[38;5;21;01mmath\u001b[39;00m\n\u001b[1;32m     17\u001b[0m \u001b[38;5;28;01mfrom\u001b[39;00m \u001b[38;5;21;01mtyping\u001b[39;00m \u001b[38;5;28;01mimport\u001b[39;00m Optional\n\u001b[0;32m---> 19\u001b[0m \u001b[38;5;28;01mfrom\u001b[39;00m \u001b[38;5;21;01mdp_accounting\u001b[39;00m \u001b[38;5;28;01mimport\u001b[39;00m dp_event\n\u001b[1;32m     20\u001b[0m \u001b[38;5;28;01mfrom\u001b[39;00m \u001b[38;5;21;01mdp_accounting\u001b[39;00m \u001b[38;5;28;01mimport\u001b[39;00m privacy_accountant\n\u001b[1;32m     21\u001b[0m \u001b[38;5;28;01mfrom\u001b[39;00m \u001b[38;5;21;01mdp_accounting\u001b[39;00m\u001b[38;5;21;01m.\u001b[39;00m\u001b[38;5;21;01mpld\u001b[39;00m \u001b[38;5;28;01mimport\u001b[39;00m privacy_loss_distribution\n",
      "File \u001b[0;32m/usr/local/lib/python3.8/dist-packages/dp_accounting/dp_event.py:71\u001b[0m\n\u001b[1;32m     65\u001b[0m \u001b[38;5;28;01mfrom\u001b[39;00m \u001b[38;5;21;01mtyping\u001b[39;00m \u001b[38;5;28;01mimport\u001b[39;00m NamedTuple, Protocol, Union\n\u001b[1;32m     67\u001b[0m \u001b[38;5;28;01mimport\u001b[39;00m \u001b[38;5;21;01mattr\u001b[39;00m\n\u001b[1;32m     70\u001b[0m \u001b[38;5;129m@typing\u001b[39m\u001b[38;5;241m.\u001b[39mruntime_checkable\n\u001b[0;32m---> 71\u001b[0m \u001b[38;5;28;01mclass\u001b[39;00m \u001b[38;5;21;01mDpEventNamedTuple\u001b[39;00m(Protocol):\n\u001b[1;32m     72\u001b[0m   _fields: \u001b[38;5;28mtuple\u001b[39m[\u001b[38;5;28mstr\u001b[39m, \u001b[38;5;241m.\u001b[39m\u001b[38;5;241m.\u001b[39m\u001b[38;5;241m.\u001b[39m]\n\u001b[1;32m     74\u001b[0m   module_name: \u001b[38;5;28mstr\u001b[39m\n",
      "File \u001b[0;32m/usr/local/lib/python3.8/dist-packages/dp_accounting/dp_event.py:72\u001b[0m, in \u001b[0;36mDpEventNamedTuple\u001b[0;34m()\u001b[0m\n\u001b[1;32m     70\u001b[0m \u001b[38;5;129m@typing\u001b[39m\u001b[38;5;241m.\u001b[39mruntime_checkable\n\u001b[1;32m     71\u001b[0m \u001b[38;5;28;01mclass\u001b[39;00m \u001b[38;5;21;01mDpEventNamedTuple\u001b[39;00m(Protocol):\n\u001b[0;32m---> 72\u001b[0m   _fields: \u001b[38;5;28;43mtuple\u001b[39;49m\u001b[43m[\u001b[49m\u001b[38;5;28;43mstr\u001b[39;49m\u001b[43m,\u001b[49m\u001b[43m \u001b[49m\u001b[38;5;241;43m.\u001b[39;49m\u001b[38;5;241;43m.\u001b[39;49m\u001b[38;5;241;43m.\u001b[39;49m\u001b[43m]\u001b[49m\n\u001b[1;32m     74\u001b[0m   module_name: \u001b[38;5;28mstr\u001b[39m\n\u001b[1;32m     75\u001b[0m   class_name: \u001b[38;5;28mstr\u001b[39m\n",
      "\u001b[0;31mTypeError\u001b[0m: 'type' object is not subscriptable"
     ]
    }
   ],
   "source": [
    "import tensorflow as tf\n",
    "import matplotlib.pyplot as plt\n",
    "import numpy as np\n",
    "import pandas as pd\n",
    "from sklearn.metrics import confusion_matrix\n",
    "import itertools\n",
    "import tensorflow_federated as tff"
   ]
  },
  {
   "cell_type": "markdown",
   "id": "c39a610b",
   "metadata": {},
   "source": [
    "# Prepare the datasets"
   ]
  },
  {
   "cell_type": "code",
   "execution_count": 5,
   "id": "342d097d",
   "metadata": {},
   "outputs": [],
   "source": [
    "(train_images, train_labels), (test_images, test_labels) = tf.keras.datasets.mnist.load_data()"
   ]
  },
  {
   "cell_type": "code",
   "execution_count": 6,
   "id": "8fec30ca",
   "metadata": {},
   "outputs": [],
   "source": [
    "def display_mnist_images(images, labels, rows=5, cols=5):\n",
    "    fig, axes = plt.subplots(rows, cols, figsize=(10, 3))\n",
    "    axes = axes.ravel()\n",
    "\n",
    "    for i in np.arange(0, rows * cols):\n",
    "        axes[i].imshow(images[i], cmap='gray')\n",
    "        axes[i].axis('off')\n",
    "        axes[i].set_title(labels[i])\n",
    "\n",
    "    plt.subplots_adjust(hspace=0.5)\n",
    "    plt.show()"
   ]
  },
  {
   "cell_type": "code",
   "execution_count": 7,
   "id": "013c22a4",
   "metadata": {},
   "outputs": [
    {
     "data": {
      "image/png": "[encoded data removed]",
      "text/plain": [
       "<Figure size 1000x300 with 10 Axes>"
      ]
     },
     "metadata": {},
     "output_type": "display_data"
    }
   ],
   "source": [
    "display_mnist_images(train_images[:10], train_labels[:10], rows=2, cols=5)"
   ]
  },
  {
   "cell_type": "markdown",
   "id": "9ad3e202",
   "metadata": {},
   "source": [
    "# Preprocess for federated learning\n",
    "\n",
    "As we will demonstrate for federated learning, here we will split the datasets to simulate that each split will be trained on different clients."
   ]
  },
  {
   "cell_type": "code",
   "execution_count": 15,
   "id": "4625a9f4",
   "metadata": {},
   "outputs": [
    {
     "data": {
      "text/plain": [
       "<Axes: xlabel='0'>"
      ]
     },
     "execution_count": 15,
     "metadata": {},
     "output_type": "execute_result"
    },
    {
     "data": {
      "image/png": "[encoded data removed]",
      "text/plain": [
       "<Figure size 640x480 with 1 Axes>"
      ]
     },
     "metadata": {},
     "output_type": "display_data"
    }
   ],
   "source": [
    "pd.DataFrame(train_labels).value_counts().plot(kind=\"bar\")"
   ]
  },
  {
   "cell_type": "code",
   "execution_count": 6,
   "id": "52f05a4b",
   "metadata": {},
   "outputs": [],
   "source": [
    "classes = np.unique(train_labels)\n",
    "clients = 7\n",
    "datasets = {}\n",
    "for _class in classes[:]:\n",
    "    indexes = np.squeeze(np.array(np.where(train_labels == _class)))\n",
    "    splits = len(indexes) // 7\n",
    "    start = 0\n",
    "    for client in range(clients):\n",
    "        if client not in datasets:\n",
    "            datasets[client] = {\"image\": [], \"label\": []}\n",
    "        \n",
    "        if client == clients - 1:\n",
    "            imgs = train_images[indexes][start:] # at the last index take all the rest indexes\n",
    "            lbls = train_labels[indexes][start:]\n",
    "        else: \n",
    "            imgs = train_images[indexes][start:start + splits]\n",
    "            lbls = train_labels[indexes][start:start + splits]\n",
    "        \n",
    "        datasets[client][\"image\"].extend(imgs)\n",
    "        datasets[client][\"label\"].extend(lbls)\n",
    "        \n",
    "        start += splits\n",
    "         "
   ]
  },
  {
   "cell_type": "code",
   "execution_count": 66,
   "id": "5105d7a0",
   "metadata": {},
   "outputs": [],
   "source": [
    "def process_data(data):\n",
    "    image = np.array(data[\"image\"]) / 255\n",
    "    ds_slices = tf.data.Dataset.from_tensor_slices((image, np.array(data[\"label\"])))\n",
    "    return ds_slices"
   ]
  },
  {
   "cell_type": "code",
   "execution_count": 67,
   "id": "0ee6ca44",
   "metadata": {},
   "outputs": [],
   "source": [
    "BATCH_SIZE = 32\n",
    "\n",
    "datasets_clients = [\n",
    "    process_data(datasets[x]).shuffle(buffer_size=10000).batch(BATCH_SIZE).prefetch(tf.data.AUTOTUNE).cache() for x in datasets.keys()\n",
    "]\n",
    "testing_set = tf.data.Dataset.from_tensor_slices((test_images, test_labels)).batch(BATCH_SIZE).prefetch(tf.data.AUTOTUNE)"
   ]
  },
  {
   "cell_type": "markdown",
   "id": "0fd31077",
   "metadata": {},
   "source": [
    "# Build the model"
   ]
  },
  {
   "cell_type": "code",
   "execution_count": 68,
   "id": "986ac40a",
   "metadata": {},
   "outputs": [],
   "source": [
    "def create_model():\n",
    "    inputs = tf.keras.layers.Input(shape=(28, 28))\n",
    "    x = tf.keras.layers.Conv1D(256, 3, activation=\"relu\")(inputs)\n",
    "    x = tf.keras.layers.MaxPooling1D(2)(x)\n",
    "    x = tf.keras.layers.Conv1D(256, 3, activation=\"relu\")(inputs)\n",
    "    x = tf.keras.layers.MaxPooling1D(2)(x)\n",
    "    x = tf.keras.layers.Conv1D(512, 3, activation=\"relu\")(inputs)\n",
    "    x = tf.keras.layers.MaxPooling1D(2)(x)\n",
    "    x = tf.keras.layers.GlobalAveragePooling1D()(x)\n",
    "    x = tf.keras.layers.Dropout(0.5)(x)\n",
    "    x = tf.keras.layers.Dense(512, activation=\"relu\")(x)\n",
    "    outputs = tf.keras.layers.Dense(len(classes), activation=\"softmax\")(x)\n",
    "    model = tf.keras.Model(inputs, outputs)\n",
    "    \n",
    "    model.compile(loss=\"sparse_categorical_crossentropy\",\n",
    "                  optimizer=tf.keras.optimizers.Adam(),\n",
    "                  metrics=[\"accuracy\"])\n",
    "    \n",
    "    return model\n",
    "    "
   ]
  },
  {
   "cell_type": "code",
   "execution_count": 104,
   "id": "65e9ad05",
   "metadata": {},
   "outputs": [],
   "source": [
    "master_model = create_model() # global modal\n",
    "models = [create_model() for x in range(clients)] # client model"
   ]
  },
  {
   "cell_type": "code",
   "execution_count": 74,
   "id": "a927fe6f",
   "metadata": {
    "scrolled": false
   },
   "outputs": [
    {
     "name": "stdout",
     "output_type": "stream",
     "text": [
      "Model: \"model_62\"\n",
      "_________________________________________________________________\n",
      " Layer (type)                Output Shape              Param #   \n",
      "=================================================================\n",
      " input_69 (InputLayer)       [(None, 28, 28)]          0         \n",
      "                                                                 \n",
      " conv1d_202 (Conv1D)         (None, 26, 512)           43520     \n",
      "                                                                 \n",
      " max_pooling1d_200 (MaxPooli  (None, 13, 512)          0         \n",
      " ng1D)                                                           \n",
      "                                                                 \n",
      " global_average_pooling1d_55  (None, 512)              0         \n",
      "  (GlobalAveragePooling1D)                                       \n",
      "                                                                 \n",
      " dropout_62 (Dropout)        (None, 512)               0         \n",
      "                                                                 \n",
      " dense_124 (Dense)           (None, 512)               262656    \n",
      "                                                                 \n",
      " dense_125 (Dense)           (None, 10)                5130      \n",
      "                                                                 \n",
      "=================================================================\n",
      "Total params: 311,306\n",
      "Trainable params: 311,306\n",
      "Non-trainable params: 0\n",
      "_________________________________________________________________\n"
     ]
    }
   ],
   "source": [
    "models[0].summary() # client 0"
   ]
  },
  {
   "cell_type": "markdown",
   "id": "d5328f03",
   "metadata": {},
   "source": [
    "# Callbacks"
   ]
  },
  {
   "cell_type": "code",
   "execution_count": 75,
   "id": "c2ae6f16",
   "metadata": {},
   "outputs": [],
   "source": [
    "early_stopping = tf.keras.callbacks.EarlyStopping(monitor=\"val_loss\", patience=4, start_from_epoch=0)"
   ]
  },
  {
   "cell_type": "markdown",
   "id": "f42fbb12",
   "metadata": {},
   "source": [
    "# Train the model"
   ]
  },
  {
   "cell_type": "code",
   "execution_count": 76,
   "id": "910d0ea0",
   "metadata": {
    "scrolled": false
   },
   "outputs": [
    {
     "name": "stdout",
     "output_type": "stream",
     "text": [
      "--------------------------------------- train client 0\n",
      "Epoch 1/100\n",
      "268/268 [==============================] - 3s 7ms/step - loss: 1.4983 - accuracy: 0.4834 - val_loss: 88.5306 - val_accuracy: 0.6806\n",
      "Epoch 2/100\n",
      "268/268 [==============================] - 2s 7ms/step - loss: 0.8056 - accuracy: 0.7379 - val_loss: 68.9298 - val_accuracy: 0.7832\n",
      "Epoch 3/100\n",
      "268/268 [==============================] - 2s 7ms/step - loss: 0.5976 - accuracy: 0.8107 - val_loss: 60.5912 - val_accuracy: 0.8239\n",
      "Epoch 4/100\n",
      "268/268 [==============================] - 2s 7ms/step - loss: 0.4844 - accuracy: 0.8462 - val_loss: 74.6780 - val_accuracy: 0.8026\n",
      "Epoch 5/100\n",
      "268/268 [==============================] - 2s 7ms/step - loss: 0.4148 - accuracy: 0.8704 - val_loss: 81.8421 - val_accuracy: 0.8080\n",
      "Epoch 6/100\n",
      "268/268 [==============================] - 2s 7ms/step - loss: 0.3711 - accuracy: 0.8801 - val_loss: 106.4225 - val_accuracy: 0.7808\n",
      "Epoch 7/100\n",
      "268/268 [==============================] - 2s 7ms/step - loss: 0.3311 - accuracy: 0.8972 - val_loss: 97.4969 - val_accuracy: 0.7941\n",
      "---------------------------------------- Done train client 0\n",
      "--------------------------------------- train client 1\n",
      "Epoch 1/100\n"
     ]
    },
    {
     "name": "stderr",
     "output_type": "stream",
     "text": [
      "2023-05-16 15:06:29.773281: I tensorflow/core/common_runtime/executor.cc:1197] [/device:CPU:0] (DEBUG INFO) Executor start aborting (this does not indicate an error and you can ignore this message): INVALID_ARGUMENT: You must feed a value for placeholder tensor 'Placeholder/_0' with dtype double and shape [8567,28,28]\n",
      "\t [[{{node Placeholder/_0}}]]\n",
      "2023-05-16 15:06:29.773728: I tensorflow/core/common_runtime/executor.cc:1197] [/device:CPU:0] (DEBUG INFO) Executor start aborting (this does not indicate an error and you can ignore this message): INVALID_ARGUMENT: You must feed a value for placeholder tensor 'Placeholder/_0' with dtype double and shape [8567,28,28]\n",
      "\t [[{{node Placeholder/_0}}]]\n"
     ]
    },
    {
     "name": "stdout",
     "output_type": "stream",
     "text": [
      "268/268 [==============================] - 3s 7ms/step - loss: 1.5530 - accuracy: 0.4654 - val_loss: 115.1699 - val_accuracy: 0.6181\n",
      "Epoch 2/100\n",
      "268/268 [==============================] - 2s 7ms/step - loss: 0.8601 - accuracy: 0.7266 - val_loss: 73.4389 - val_accuracy: 0.7708\n",
      "Epoch 3/100\n",
      "268/268 [==============================] - 2s 7ms/step - loss: 0.6235 - accuracy: 0.8038 - val_loss: 101.7985 - val_accuracy: 0.7391\n",
      "Epoch 4/100\n",
      "268/268 [==============================] - 2s 7ms/step - loss: 0.5059 - accuracy: 0.8427 - val_loss: 102.1774 - val_accuracy: 0.7614\n",
      "Epoch 5/100\n",
      "268/268 [==============================] - 2s 7ms/step - loss: 0.4478 - accuracy: 0.8618 - val_loss: 86.0505 - val_accuracy: 0.7961\n",
      "Epoch 6/100\n",
      "268/268 [==============================] - 2s 7ms/step - loss: 0.4004 - accuracy: 0.8727 - val_loss: 88.5702 - val_accuracy: 0.8001\n",
      "---------------------------------------- Done train client 1\n",
      "--------------------------------------- train client 2\n",
      "Epoch 1/100\n"
     ]
    },
    {
     "name": "stderr",
     "output_type": "stream",
     "text": [
      "2023-05-16 15:06:42.023063: I tensorflow/core/common_runtime/executor.cc:1197] [/device:CPU:0] (DEBUG INFO) Executor start aborting (this does not indicate an error and you can ignore this message): INVALID_ARGUMENT: You must feed a value for placeholder tensor 'Placeholder/_0' with dtype double and shape [8567,28,28]\n",
      "\t [[{{node Placeholder/_0}}]]\n",
      "2023-05-16 15:06:42.023485: I tensorflow/core/common_runtime/executor.cc:1197] [/device:CPU:0] (DEBUG INFO) Executor start aborting (this does not indicate an error and you can ignore this message): INVALID_ARGUMENT: You must feed a value for placeholder tensor 'Placeholder/_1' with dtype uint8 and shape [8567]\n",
      "\t [[{{node Placeholder/_1}}]]\n"
     ]
    },
    {
     "name": "stdout",
     "output_type": "stream",
     "text": [
      "268/268 [==============================] - 3s 7ms/step - loss: 1.4953 - accuracy: 0.4858 - val_loss: 85.3996 - val_accuracy: 0.6910\n",
      "Epoch 2/100\n",
      "268/268 [==============================] - 2s 7ms/step - loss: 0.8190 - accuracy: 0.7348 - val_loss: 81.2133 - val_accuracy: 0.7937\n",
      "Epoch 3/100\n",
      "268/268 [==============================] - 2s 7ms/step - loss: 0.6041 - accuracy: 0.8080 - val_loss: 73.1754 - val_accuracy: 0.8170\n",
      "Epoch 4/100\n",
      "268/268 [==============================] - 2s 7ms/step - loss: 0.4867 - accuracy: 0.8462 - val_loss: 78.2630 - val_accuracy: 0.8274\n",
      "Epoch 5/100\n",
      "268/268 [==============================] - 2s 7ms/step - loss: 0.4228 - accuracy: 0.8649 - val_loss: 91.8191 - val_accuracy: 0.8085\n",
      "Epoch 6/100\n",
      "268/268 [==============================] - 2s 7ms/step - loss: 0.3596 - accuracy: 0.8828 - val_loss: 108.8104 - val_accuracy: 0.7966\n",
      "Epoch 7/100\n",
      "268/268 [==============================] - 2s 7ms/step - loss: 0.3396 - accuracy: 0.8921 - val_loss: 119.2924 - val_accuracy: 0.7812\n",
      "---------------------------------------- Done train client 2\n",
      "--------------------------------------- train client 3\n",
      "Epoch 1/100\n"
     ]
    },
    {
     "name": "stderr",
     "output_type": "stream",
     "text": [
      "2023-05-16 15:06:56.211713: I tensorflow/core/common_runtime/executor.cc:1197] [/device:CPU:0] (DEBUG INFO) Executor start aborting (this does not indicate an error and you can ignore this message): INVALID_ARGUMENT: You must feed a value for placeholder tensor 'Placeholder/_1' with dtype uint8 and shape [8567]\n",
      "\t [[{{node Placeholder/_1}}]]\n",
      "2023-05-16 15:06:56.212143: I tensorflow/core/common_runtime/executor.cc:1197] [/device:CPU:0] (DEBUG INFO) Executor start aborting (this does not indicate an error and you can ignore this message): INVALID_ARGUMENT: You must feed a value for placeholder tensor 'Placeholder/_1' with dtype uint8 and shape [8567]\n",
      "\t [[{{node Placeholder/_1}}]]\n"
     ]
    },
    {
     "name": "stdout",
     "output_type": "stream",
     "text": [
      "268/268 [==============================] - 3s 7ms/step - loss: 1.4756 - accuracy: 0.4983 - val_loss: 95.6941 - val_accuracy: 0.6696\n",
      "Epoch 2/100\n",
      "268/268 [==============================] - 2s 7ms/step - loss: 0.8403 - accuracy: 0.7235 - val_loss: 94.2474 - val_accuracy: 0.7292\n",
      "Epoch 3/100\n",
      "268/268 [==============================] - 2s 7ms/step - loss: 0.6158 - accuracy: 0.8016 - val_loss: 96.1162 - val_accuracy: 0.7594\n",
      "Epoch 4/100\n",
      "268/268 [==============================] - 2s 7ms/step - loss: 0.4973 - accuracy: 0.8427 - val_loss: 94.0229 - val_accuracy: 0.7812\n",
      "Epoch 5/100\n",
      "268/268 [==============================] - 2s 7ms/step - loss: 0.4213 - accuracy: 0.8638 - val_loss: 100.3336 - val_accuracy: 0.7753\n",
      "Epoch 6/100\n",
      "268/268 [==============================] - 2s 7ms/step - loss: 0.3741 - accuracy: 0.8811 - val_loss: 116.6844 - val_accuracy: 0.7654\n",
      "Epoch 7/100\n",
      "268/268 [==============================] - 2s 7ms/step - loss: 0.3336 - accuracy: 0.8941 - val_loss: 150.0173 - val_accuracy: 0.7282\n",
      "Epoch 8/100\n",
      "268/268 [==============================] - 2s 7ms/step - loss: 0.3089 - accuracy: 0.9031 - val_loss: 194.7961 - val_accuracy: 0.6687\n",
      "---------------------------------------- Done train client 3\n",
      "--------------------------------------- train client 4\n",
      "Epoch 1/100\n"
     ]
    },
    {
     "name": "stderr",
     "output_type": "stream",
     "text": [
      "2023-05-16 15:07:12.325619: I tensorflow/core/common_runtime/executor.cc:1197] [/device:CPU:0] (DEBUG INFO) Executor start aborting (this does not indicate an error and you can ignore this message): INVALID_ARGUMENT: You must feed a value for placeholder tensor 'Placeholder/_1' with dtype uint8 and shape [8567]\n",
      "\t [[{{node Placeholder/_1}}]]\n",
      "2023-05-16 15:07:12.326090: I tensorflow/core/common_runtime/executor.cc:1197] [/device:CPU:0] (DEBUG INFO) Executor start aborting (this does not indicate an error and you can ignore this message): INVALID_ARGUMENT: You must feed a value for placeholder tensor 'Placeholder/_0' with dtype double and shape [8567,28,28]\n",
      "\t [[{{node Placeholder/_0}}]]\n"
     ]
    },
    {
     "name": "stdout",
     "output_type": "stream",
     "text": [
      "268/268 [==============================] - 3s 8ms/step - loss: 1.5160 - accuracy: 0.4832 - val_loss: 74.4221 - val_accuracy: 0.7123\n",
      "Epoch 2/100\n",
      "268/268 [==============================] - 2s 7ms/step - loss: 0.8253 - accuracy: 0.7320 - val_loss: 60.3216 - val_accuracy: 0.7991\n",
      "Epoch 3/100\n",
      "268/268 [==============================] - 2s 7ms/step - loss: 0.5940 - accuracy: 0.8095 - val_loss: 59.6701 - val_accuracy: 0.8289\n",
      "Epoch 4/100\n",
      "268/268 [==============================] - 2s 7ms/step - loss: 0.4888 - accuracy: 0.8458 - val_loss: 58.5984 - val_accuracy: 0.8423\n",
      "Epoch 5/100\n",
      "268/268 [==============================] - 2s 7ms/step - loss: 0.4202 - accuracy: 0.8667 - val_loss: 81.0495 - val_accuracy: 0.8031\n",
      "Epoch 6/100\n",
      "268/268 [==============================] - 2s 7ms/step - loss: 0.3748 - accuracy: 0.8812 - val_loss: 71.3376 - val_accuracy: 0.8333\n",
      "Epoch 7/100\n",
      "268/268 [==============================] - 2s 7ms/step - loss: 0.3385 - accuracy: 0.8930 - val_loss: 92.3586 - val_accuracy: 0.8100\n",
      "Epoch 8/100\n",
      "268/268 [==============================] - 2s 7ms/step - loss: 0.3069 - accuracy: 0.9032 - val_loss: 94.9261 - val_accuracy: 0.8130\n",
      "---------------------------------------- Done train client 4\n",
      "--------------------------------------- train client 5\n",
      "Epoch 1/100\n"
     ]
    },
    {
     "name": "stderr",
     "output_type": "stream",
     "text": [
      "2023-05-16 15:07:28.675316: I tensorflow/core/common_runtime/executor.cc:1197] [/device:CPU:0] (DEBUG INFO) Executor start aborting (this does not indicate an error and you can ignore this message): INVALID_ARGUMENT: You must feed a value for placeholder tensor 'Placeholder/_1' with dtype uint8 and shape [8567]\n",
      "\t [[{{node Placeholder/_1}}]]\n",
      "2023-05-16 15:07:28.675753: I tensorflow/core/common_runtime/executor.cc:1197] [/device:CPU:0] (DEBUG INFO) Executor start aborting (this does not indicate an error and you can ignore this message): INVALID_ARGUMENT: You must feed a value for placeholder tensor 'Placeholder/_1' with dtype uint8 and shape [8567]\n",
      "\t [[{{node Placeholder/_1}}]]\n"
     ]
    },
    {
     "name": "stdout",
     "output_type": "stream",
     "text": [
      "268/268 [==============================] - 3s 7ms/step - loss: 1.5202 - accuracy: 0.4818 - val_loss: 89.0475 - val_accuracy: 0.6562\n",
      "Epoch 2/100\n",
      "268/268 [==============================] - 2s 7ms/step - loss: 0.8352 - accuracy: 0.7308 - val_loss: 89.9067 - val_accuracy: 0.7237\n",
      "Epoch 3/100\n",
      "268/268 [==============================] - 2s 7ms/step - loss: 0.6126 - accuracy: 0.8042 - val_loss: 90.3829 - val_accuracy: 0.7510\n",
      "Epoch 4/100\n",
      "268/268 [==============================] - 2s 7ms/step - loss: 0.4950 - accuracy: 0.8413 - val_loss: 103.5763 - val_accuracy: 0.7480\n",
      "Epoch 5/100\n",
      "268/268 [==============================] - 2s 7ms/step - loss: 0.4282 - accuracy: 0.8639 - val_loss: 95.1687 - val_accuracy: 0.7758\n",
      "---------------------------------------- Done train client 5\n",
      "--------------------------------------- train client 6\n",
      "Epoch 1/100\n"
     ]
    },
    {
     "name": "stderr",
     "output_type": "stream",
     "text": [
      "2023-05-16 15:07:39.146969: I tensorflow/core/common_runtime/executor.cc:1197] [/device:CPU:0] (DEBUG INFO) Executor start aborting (this does not indicate an error and you can ignore this message): INVALID_ARGUMENT: You must feed a value for placeholder tensor 'Placeholder/_0' with dtype double and shape [8598,28,28]\n",
      "\t [[{{node Placeholder/_0}}]]\n",
      "2023-05-16 15:07:39.147353: I tensorflow/core/common_runtime/executor.cc:1197] [/device:CPU:0] (DEBUG INFO) Executor start aborting (this does not indicate an error and you can ignore this message): INVALID_ARGUMENT: You must feed a value for placeholder tensor 'Placeholder/_0' with dtype double and shape [8598,28,28]\n",
      "\t [[{{node Placeholder/_0}}]]\n"
     ]
    },
    {
     "name": "stdout",
     "output_type": "stream",
     "text": [
      "269/269 [==============================] - 3s 7ms/step - loss: 1.4422 - accuracy: 0.5062 - val_loss: 121.1446 - val_accuracy: 0.6369\n",
      "Epoch 2/100\n",
      "269/269 [==============================] - 2s 7ms/step - loss: 0.7617 - accuracy: 0.7546 - val_loss: 101.0657 - val_accuracy: 0.7465\n",
      "Epoch 3/100\n",
      "269/269 [==============================] - 2s 7ms/step - loss: 0.5571 - accuracy: 0.8224 - val_loss: 79.8376 - val_accuracy: 0.8001\n",
      "Epoch 4/100\n",
      "269/269 [==============================] - 2s 7ms/step - loss: 0.4510 - accuracy: 0.8573 - val_loss: 84.1968 - val_accuracy: 0.8135\n",
      "Epoch 5/100\n",
      "269/269 [==============================] - 2s 7ms/step - loss: 0.3971 - accuracy: 0.8757 - val_loss: 87.2168 - val_accuracy: 0.8155\n",
      "Epoch 6/100\n",
      "269/269 [==============================] - 2s 7ms/step - loss: 0.3445 - accuracy: 0.8937 - val_loss: 92.9850 - val_accuracy: 0.8249\n",
      "Epoch 7/100\n",
      "269/269 [==============================] - 2s 7ms/step - loss: 0.3181 - accuracy: 0.9002 - val_loss: 85.7250 - val_accuracy: 0.8313\n",
      "---------------------------------------- Done train client 6\n"
     ]
    }
   ],
   "source": [
    "history = []\n",
    "EPOCHS = 100\n",
    "for t in range(clients):  \n",
    "    \n",
    "    print(f\"--------------------------------------- train client {t}\")\n",
    "    \n",
    "    history.append(models[t].fit(\n",
    "        datasets_clients[t], \n",
    "        epochs=EPOCHS,\n",
    "        validation_data=testing_set,\n",
    "        validation_steps=len(testing_set) * .2,\n",
    "        callbacks=[early_stopping]\n",
    "    ))\n",
    "    models[t].save_weights(f\"model.weigths.{t}.h5\")\n",
    "    \n",
    "    print(f\"---------------------------------------- Done train client {t}\")"
   ]
  },
  {
   "cell_type": "markdown",
   "id": "cf35b7c9",
   "metadata": {},
   "source": [
    "# Test the accuracy of each client"
   ]
  },
  {
   "cell_type": "code",
   "execution_count": 79,
   "id": "e358ae85",
   "metadata": {},
   "outputs": [
    {
     "name": "stdout",
     "output_type": "stream",
     "text": [
      "model.weigths.0.h5  model.weigths.2.h5\tmodel.weigths.4.h5  model.weigths.6.h5\r\n",
      "model.weigths.1.h5  model.weigths.3.h5\tmodel.weigths.5.h5\r\n"
     ]
    }
   ],
   "source": [
    "!ls *.h5"
   ]
  },
  {
   "cell_type": "code",
   "execution_count": 89,
   "id": "cd20a5dd",
   "metadata": {},
   "outputs": [],
   "source": [
    "models_client_test = [create_model() for x in range(clients)]"
   ]
  },
  {
   "cell_type": "code",
   "execution_count": 105,
   "id": "b1e00742",
   "metadata": {},
   "outputs": [],
   "source": [
    "for x in range(clients):\n",
    "    models_client_test[x].load_weights(f\"model.weigths.{x}.h5\")"
   ]
  },
  {
   "cell_type": "code",
   "execution_count": 92,
   "id": "3355b8be",
   "metadata": {},
   "outputs": [
    {
     "name": "stdout",
     "output_type": "stream",
     "text": [
      "-------------------- Testing accuracy of client 0\n",
      "313/313 [==============================] - 1s 4ms/step - loss: 82.6195 - accuracy: 0.8277\n",
      "\n",
      "\n",
      "-------------------- Testing accuracy of client 1\n",
      "313/313 [==============================] - 1s 4ms/step - loss: 72.1552 - accuracy: 0.8343\n",
      "\n",
      "\n",
      "-------------------- Testing accuracy of client 2\n",
      "313/313 [==============================] - 1s 4ms/step - loss: 107.2626 - accuracy: 0.7999\n",
      "\n",
      "\n",
      "-------------------- Testing accuracy of client 3\n",
      "313/313 [==============================] - 1s 4ms/step - loss: 160.8250 - accuracy: 0.7146\n",
      "\n",
      "\n",
      "-------------------- Testing accuracy of client 4\n",
      "313/313 [==============================] - 1s 4ms/step - loss: 74.9361 - accuracy: 0.8587\n",
      "\n",
      "\n",
      "-------------------- Testing accuracy of client 5\n",
      "313/313 [==============================] - 1s 4ms/step - loss: 84.9470 - accuracy: 0.8065\n",
      "\n",
      "\n",
      "-------------------- Testing accuracy of client 6\n",
      "313/313 [==============================] - 1s 4ms/step - loss: 73.4298 - accuracy: 0.8593\n",
      "\n",
      "\n"
     ]
    }
   ],
   "source": [
    "for x in range(clients \n",
    "    \n",
    "    # make a prediction\n",
    "    print(f\"-------------------- Testing accuracy of client {x}\")\n",
    "    models_client_test[x].evaluate(testing_set)\n",
    "    \n",
    "    print(\"\\n\")"
   ]
  },
  {
   "cell_type": "markdown",
   "id": "d08bf316",
   "metadata": {},
   "source": [
    "# Aggregate all the weights to the global model"
   ]
  },
  {
   "cell_type": "code",
   "execution_count": 113,
   "id": "81e44459",
   "metadata": {
    "scrolled": true
   },
   "outputs": [],
   "source": [
    "# List of client weights proportions (e.g., dataset sizes or importance) \n",
    "# because we train each of our client model with relatively the same amount of datasets so i'll set the weight proportion to all the same\n",
    "client_proportions = [(x + 1) / clients for x in range(clients)]\n",
    "\n",
    "aggregated_weights = np.average(\n",
    "    [x.get_weights() for x in models_client_test], \n",
    "    axis=0, weights=client_proportions)"
   ]
  },
  {
   "cell_type": "code",
   "execution_count": null,
   "id": "4f07e3a8",
   "metadata": {},
   "outputs": [],
   "source": []
  },
  {
   "cell_type": "markdown",
   "id": "dd8ca284",
   "metadata": {},
   "source": [
    "# Set the aggregate weigths from each client to the global model"
   ]
  },
  {
   "cell_type": "code",
   "execution_count": 114,
   "id": "a23acc4b",
   "metadata": {},
   "outputs": [],
   "source": [
    "master_model.set_weights(aggregated_weights)"
   ]
  },
  {
   "cell_type": "markdown",
   "id": "fc39fe6a",
   "metadata": {},
   "source": [
    "# We can make a prediction with the aggregated weights"
   ]
  },
  {
   "cell_type": "code",
   "execution_count": 115,
   "id": "da2a959f",
   "metadata": {},
   "outputs": [
    {
     "name": "stdout",
     "output_type": "stream",
     "text": [
      "313/313 [==============================] - 1s 4ms/step - loss: 13.7522 - accuracy: 0.2337\n"
     ]
    },
    {
     "data": {
      "text/plain": [
       "[13.752226829528809, 0.2337000072002411]"
      ]
     },
     "execution_count": 115,
     "metadata": {},
     "output_type": "execute_result"
    }
   ],
   "source": [
    "master_model.evaluate(testing_set)"
   ]
  },
  {
   "cell_type": "code",
   "execution_count": null,
   "id": "99dbf50f",
   "metadata": {},
   "outputs": [],
   "source": []
  }
 ],
 "metadata": {
  "kernelspec": {
   "display_name": "Python 3 (ipykernel)",
   "language": "python",
   "name": "python3"
  },
  "language_info": {
   "codemirror_mode": {
    "name": "ipython",
    "version": 3
   },
   "file_extension": ".py",
   "mimetype": "text/x-python",
   "name": "python",
   "nbconvert_exporter": "python",
   "pygments_lexer": "ipython3",
   "version": "3.8.10"
  }
 },
 "nbformat": 4,
 "nbformat_minor": 5
}
